{
 "cells": [
  {
   "cell_type": "code",
   "execution_count": null,
   "metadata": {
    "collapsed": true
   },
   "outputs": [],
   "source": [
    "def run(agent, env, episodes=20, episode_duration=100, render=True, verbose=False):\n",
    "    \"\"\"\n",
    "    Runs a reinforcement learning experiment\n",
    "    :param agent: implements the method act(observation)\n",
    "    :param env: an instance of gym.Env\n",
    "    :param episodes: number of episodes to run\n",
    "    :param episode_duration: number of steps of each episode\n",
    "    :param render: render each step?\n",
    "    :param verbose: print transition information?\n",
    "    \"\"\"\n",
    "    for ep in range(episodes):\n",
    "        observation = env.reset()\n",
    "        acc_reward = 0\n",
    "        if render:\n",
    "            env.render() # show initial state\n",
    "        for t in range(100):         \n",
    "            # print(observation)\n",
    "            action = agent.act(observation)\n",
    "            observation, reward, done, info = env.step(action)\n",
    "            acc_reward += reward\n",
    "            if verbose:\n",
    "                print(observation, reward, done, info)          \n",
    "            if render:\n",
    "                env.render() \n",
    "                \n",
    "            if done:\n",
    "                print(\"Episode {} finished after {} timesteps w/ total reward {}\".format(ep+1, t+1, acc_reward))\n",
    "                break\n"
   ]
  },
  {
   "cell_type": "code",
   "execution_count": null,
   "metadata": {
    "collapsed": false,
    "deletable": true,
    "editable": true
   },
   "outputs": [],
   "source": [
    "# test a random agent\n",
    "import gym\n",
    "import gym_adversarialgrid.envs.adversarialgrid as adversarialgrid\n",
    "import gym_adversarialgrid.agents.adversary as agent\n",
    "#from gym_adversarialgrid.envs.adversarialgrid import AdversarialGrid\n",
    "\n",
    "\n",
    "env = adversarialgrid.AdversarialGrid(opponent='Fixed', action=adversarialgrid.NOOP, map='3x4')\n",
    "\n",
    "agent = agent.Random(env.observation_space, env.action_space)\n",
    "\n",
    "run(agent, env, render=False)\n"
   ]
  },
  {
   "cell_type": "code",
   "execution_count": null,
   "metadata": {
    "collapsed": false,
    "deletable": true,
    "editable": true
   },
   "outputs": [],
   "source": [
    "# testing the tabular q agent, vs fixed NOOP adversary\n",
    "from pprint import pprint\n",
    "import gym_adversarialgrid.agents.tabular as tabular\n",
    "\n",
    "env = adversarialgrid.AdversarialGrid(opponent='Fixed', action=adversarialgrid.NOOP, map='3x4')\n",
    "agent = tabular.TabularQAgent(env.observation_space, env.action_space, eps=0.1, init_mean=1)\n",
    "\n",
    "#train\n",
    "agent.train(env)\n",
    "#pprint(agent.q)\n",
    "\n",
    "#test\n",
    "agent.config['eps'] = 0 #all greedy o/\n",
    "run(agent, env, render=False)"
   ]
  },
  {
   "cell_type": "code",
   "execution_count": null,
   "metadata": {
    "collapsed": false,
    "deletable": true,
    "editable": true
   },
   "outputs": [],
   "source": [
    "# tabular q vs fixed deflector\n",
    "env = adversarialgrid.AdversarialGrid(opponent='Fixed', action=adversarialgrid.DEFLECT, map='3x4')\n",
    "agent = tabular.TabularQAgent(env.observation_space, env.action_space, eps=0.1, init_mean=1)\n",
    "\n",
    "#train\n",
    "agent.train(env)\n",
    "#pprint(agent.q)\n",
    "\n",
    "#test\n",
    "agent.config['eps'] = 0 #all greedy o/\n",
    "run(agent, env, render=True, verbose=True)"
   ]
  },
  {
   "cell_type": "code",
   "execution_count": null,
   "metadata": {
    "collapsed": true,
    "deletable": true,
    "editable": true
   },
   "outputs": [],
   "source": []
  }
 ],
 "metadata": {
  "kernelspec": {
   "display_name": "Python 3",
   "language": "python",
   "name": "python3"
  },
  "language_info": {
   "codemirror_mode": {
    "name": "ipython",
    "version": 3
   },
   "file_extension": ".py",
   "mimetype": "text/x-python",
   "name": "python",
   "nbconvert_exporter": "python",
   "pygments_lexer": "ipython3",
   "version": "3.5.2"
  }
 },
 "nbformat": 4,
 "nbformat_minor": 0
}
